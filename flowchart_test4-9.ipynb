{
 "cells": [
  {
   "cell_type": "markdown",
   "id": "bdcac42f",
   "metadata": {},
   "source": [
    "# 프로그래밍 논리 학습을 위한 순서도 작성 기법(북스홀릭) test 4-9\n",
    "</br>\n",
    "3개의 수를 읽어서 최대값, 중간값, 최소값을 출력하는 순서도를 작성하라.</br> \n",
    "단, 같은 수는 존재하지 않는다고 가정한다."
   ]
  },
  {
   "cell_type": "markdown",
   "id": "7c222617",
   "metadata": {},
   "source": [
    "**풀이**\n",
    " \n",
    "\n",
    ">  필요한 부분: \n",
    "> - 3개의 수를 읽는 부분.\n",
    "> - 최대값/ 중간값/ 최소값을 찾는 부분.\n",
    "> - 최대값/ 중간값/ 최소값을 출력하는 부분.\n",
    "</br></br>\n",
    "\n",
    "1) 세 수를 각각 x, y, z에 입력받는다.\n",
    "\n",
    "![fc4-9-1](./fc4-9-1.jpg)\n",
    "\n",
    "\n",
    "</br></br>\n",
    "\n",
    "2) 최대값, 중간값, 최소값을 비교를 통해 구분한다.\n",
    "</br></br>\n",
    "최대값, 중간값, 최솟값은 x, y, z를 서로 한번씩 비교를 통해 알아낸 뒤, 각각 maxi, mid, mini라는 변수에 넣을 것이다.\n",
    "- 제일 먼저, x, y, z 중 아무 변수를 골라 나머지 두 변수값들과 한번씩 비교한다.\n",
    "- 앞서 고르지 않았던 나머지 두 변수끼리 한번씩 비교한다.\n",
    "\n",
    "여기선 x를 고를 것이다. </br>x를 y, z와 비교한 뒤, 두번의 비교에서 어떤 결과가 나오냐에 따라 x를 maxi, mid,  mini 중 하나에 넣는다. </br>그리고 y, z끼리의 비교를 통해, 남은 두 변수에 할당할 것이다.\n",
    "![4-9-2](./fc4-9-2.jpg)\n",
    "</br></br>\n",
    "\n",
    "3) 최대값, 중간값, 최소값을 출력한다.\n",
    "</br>\n",
    "\n",
    "최댓값(maxi). 중간값(mid), 최솟값(mini)을 출력한다.\n",
    "![4-9-3](./fc4-9-3.jpg)\n",
    "\n",
    "\n",
    "</br></br>\n",
    "## 순서도대로 코드짜기"
   ]
  },
  {
   "cell_type": "code",
   "execution_count": 1,
   "id": "2adc8f94",
   "metadata": {},
   "outputs": [
    {
     "name": "stdout",
     "output_type": "stream",
     "text": [
      "144\n",
      "2235\n",
      "17.7\n",
      "max=2235.000000\n",
      "mid=144.000000\n",
      "mini=17.700000\n"
     ]
    }
   ],
   "source": [
    "#read x,y,z\n",
    "x=float(input())\n",
    "y=float(input())\n",
    "z=float(input())\n",
    "\n",
    "#x가 y보다 크다면\n",
    "if(x>y):\n",
    "    if(x>z):\n",
    "        maxi=x\n",
    "        if(y>z):\n",
    "            mid=y\n",
    "            mini=z\n",
    "        else:\n",
    "            mid=z\n",
    "            mini=y\n",
    "    else:\n",
    "        mid=x\n",
    "        maxi=z\n",
    "        mini=y\n",
    "#x가 y보다 작다면\n",
    "else:\n",
    "    if(x>z):\n",
    "        mid=x\n",
    "        maxi=y\n",
    "        mini=z\n",
    "    else:\n",
    "        mini=x\n",
    "        if(y>z):\n",
    "            maxi=y\n",
    "            mid=z\n",
    "        else:\n",
    "            maxi=z\n",
    "            mid=y\n",
    "#print\n",
    "print(\"max=%f\\nmid=%f\\nmini=%f\"%(maxi, mid, mini))"
   ]
  },
  {
   "cell_type": "markdown",
   "id": "df4da081",
   "metadata": {},
   "source": [
    "## <span style=\"color:crimson\">사실 맘에 들지 않는다.</span>\n",
    "> - 순서도를 보면 **중복**되는 곳이 많다.\n",
    "> - 같은 코드를 두번씩 쓰는 건 낭비다.\n",
    "\n",
    "</br></br>\n",
    "\n",
    "___\n",
    "## 고쳐보자\n",
    "</br></br>\n",
    "\n",
    "**문제점**\n",
    "\n",
    "중복되는 단계가 생긴다. \n",
    "</br></br>앞에서 비교한 (x와 y 중 더 큰 수와 작은 수) 결과를 컴퓨터는 기억하지 않고 있기 때문에,\n",
    "각 경우의 수(예를 들어, x와 y를 비교 후, 이번에는 x와 z를 비교할 때)에서 같은 변수끼리 비교를 하는 경우가 생긴다.\n",
    " > - 컴퓨터는 '조건문 안의 내용이 참일 경우, 이렇게 하라'는 명령만을 받았을 뿐, 조건문 안의 내용(x가 크다던지, y가 작다던지)은 따로 기억하고 있지 않다. 우리가 직접 변수에 담아주거나, 해서 기억할 수 있도록 해줘야 한다.\n",
    "\n",
    "</br></br>\n",
    "\n",
    "**x, y, z의 비교결과를 새로운 변수들에 저장하면서, 중복되는 비교문을 없앨 수 있는 방법을 모색한다.**\n",
    "\n",
    "</br>\n",
    "\n",
    "--> maxi, mid, mini라는 변수를 '이용해' 비교한다.\n",
    "\n",
    "- 예를 들어 x와 y 중 큰 수를 maxi에 둔다면,\n",
    ">원래대로면 x>y거나, 그 반대의 경우에 둘 중 큰 수를 직접 z와 비교하게 될 텐데, </br>\n",
    "x나 y중 큰 수를 maxi에 넣은 뒤, maxi와 z를 비교하면 된다.</br>분기별로 갈라질 필요가 없다.\n",
    "\n",
    "</br></br>\n",
    "\n",
    "**풀이**\n",
    "\n",
    "1. 가장 큰 수 maxi를 x라 가정하고 y와 비교한다.\n",
    "\n",
    "\n",
    "2. maxi와 y를 비교해 maxi가 더 크면, maxi는 그대로 두고 y를 mini에 대입한다. 반대로 maxi가 작았으면, maxi는 mini에, y는 maxi에 대입한다. \n",
    "> - 큰 수는 maxi에 둠으로써 두 수 중 더 크다는 사실을, 작은 수는 mini에 둠으로써 두 수 중 작다는 사실을 나타낸다.\n",
    "\n",
    "\n",
    "3. maxi와 z를 비교해 maxi가 더 크면, maxi는 그대로 두고 z를 mid에 대입한다. 반대로 maxi가 작았으면, maxi는 mid에, z는 maxi에 대입한다. \n",
    "> - 마찬가지지만 이번에는 작은 수를 mid에 뒀다. mini에 둔다면 기존에 mini에 저장해놓던 값이 사라지기 때문이다.\n",
    "\n",
    "4. 아직 mid와 mini는 서로 비교한 적이 없다. 따라서, mid와 mini를 비교해 mini가 더 크면, mid의 값을 잠시 x에 임시로 옮긴 뒤, mini를 mid에 대입한다. </br>mid였던 x의 값은 mini에 대입한다. 반대로 mini가 작았으면, 그대로 유지한다.\n",
    "> - 여기서 x에 mid값을 옮기는 절차가 없었다면, mid에 mini값을 옮기는 순간 mid값은 어디에도 보관되어있지 않다. mid에는 mini의 값이 들어있을 뿐이다.\n",
    "\n",
    "\n",
    "5. maxi, mid, mini를 출력한다.\n",
    "\n",
    "</br></br>\n",
    "\n",
    "\n",
    "\n",
    "![fc4-9ver2final](./fc4-9ver2final.jpg)\n"
   ]
  },
  {
   "cell_type": "markdown",
   "id": "94a72f7d",
   "metadata": {},
   "source": [
    "순서도 마지막엔 end를 꼭 그려주자."
   ]
  },
  {
   "cell_type": "markdown",
   "id": "e53a7f36",
   "metadata": {},
   "source": [
    "## 순서도대로 코드짜기(2)"
   ]
  },
  {
   "cell_type": "code",
   "execution_count": 2,
   "id": "53212b11",
   "metadata": {},
   "outputs": [
    {
     "name": "stdout",
     "output_type": "stream",
     "text": [
      "249\n",
      "17\n",
      "21.2\n",
      "maxi=249.0\n",
      "mid=21.2\n",
      "mini=17.0\n"
     ]
    }
   ],
   "source": [
    "#read x,y,z\n",
    "x=float(input())\n",
    "y=float(input())\n",
    "z=float(input())\n",
    "\n",
    "##최댓값, 중간값, 최솟값 구분\n",
    "maxi=x #우선 x를 maxi라 가정.\n",
    "\n",
    "#비교연산1\n",
    "if(maxi>y):\n",
    "    mini=y\n",
    "else:\n",
    "    mini=x\n",
    "    maxi=y\n",
    "\n",
    "#비교연산2\n",
    "if(maxi>z):\n",
    "    mid=z\n",
    "else:\n",
    "    mid=maxi\n",
    "    maxi=z\n",
    "\n",
    "#비교연산3\n",
    "if (mid<mini):\n",
    "    x=mid #x는 mini값을 잠시 저장하는 용도로 재활용.\n",
    "    mid=mini\n",
    "    mini=x\n",
    "\n",
    "#print\n",
    "print(\"maxi=%.1f\\nmid=%.1f\\nmini=%.1f\"%(maxi, mid, mini))"
   ]
  },
  {
   "cell_type": "markdown",
   "id": "41fb73e8",
   "metadata": {},
   "source": [
    "정렬로도 가능하다.\n",
    "> 전정 2-2학기에 배우는 자료구조를 들어봅시다(?)"
   ]
  },
  {
   "cell_type": "code",
   "execution_count": null,
   "id": "ef7588e6",
   "metadata": {},
   "outputs": [],
   "source": []
  }
 ],
 "metadata": {
  "kernelspec": {
   "display_name": "Python 3 (ipykernel)",
   "language": "python",
   "name": "python3"
  },
  "language_info": {
   "codemirror_mode": {
    "name": "ipython",
    "version": 3
   },
   "file_extension": ".py",
   "mimetype": "text/x-python",
   "name": "python",
   "nbconvert_exporter": "python",
   "pygments_lexer": "ipython3",
   "version": "3.9.7"
  }
 },
 "nbformat": 4,
 "nbformat_minor": 5
}
